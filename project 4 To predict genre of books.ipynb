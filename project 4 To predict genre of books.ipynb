{
 "cells": [
  {
   "cell_type": "markdown",
   "id": "a0690c1f",
   "metadata": {},
   "source": [
    "# project :- KITAAB (Genre of books)"
   ]
  },
  {
   "cell_type": "markdown",
   "id": "909ad976",
   "metadata": {},
   "source": [
    "## PROBLEM STATEMENT"
   ]
  },
  {
   "cell_type": "raw",
   "id": "2c959ed4",
   "metadata": {},
   "source": [
    "Problem Statement: There is one library “Kitaab” in the city, they have stored tons of books since\n",
    "1998, and they are getting lots of readers from everywhere. To enhance the readers, they entered into\n",
    "the digital world. They have launched an online book reading platform where they are uploading all\n",
    "their physical books. Along with that, they want to add some more features which are possible to achieve\n",
    "by data science methods & techniques.\n",
    "\n",
    "Right now, they are working manually to create a genre of a book and tag or group those books\n",
    "together on their platform but it’s very expensive and time-consuming work. Now they want to\n",
    "leverage data science power to automatically tag the genre to the books.\n"
   ]
  },
  {
   "cell_type": "markdown",
   "id": "1355c7ea",
   "metadata": {},
   "source": [
    "## import libraries"
   ]
  },
  {
   "cell_type": "code",
   "execution_count": 1,
   "id": "c1d9c06d",
   "metadata": {},
   "outputs": [],
   "source": [
    "import numpy as np\n",
    "import pandas as pd\n",
    "from sklearn.naive_bayes import MultinomialNB\n",
    "from sklearn.metrics import accuracy_score, confusion_matrix,classification_report\n",
    "import matplotlib.pyplot as plt\n",
    "import seaborn as sns\n",
    "import warnings\n",
    "warnings.filterwarnings(\"ignore\")\n",
    "from sklearn.model_selection import train_test_split,GridSearchCV\n",
    "from sklearn.preprocessing import OneHotEncoder,LabelEncoder"
   ]
  },
  {
   "cell_type": "code",
   "execution_count": 2,
   "id": "32ce6e2b",
   "metadata": {},
   "outputs": [],
   "source": [
    "import re\n",
    "import nltk\n",
    "from nltk.tokenize import word_tokenize, RegexpTokenizer\n",
    "from string import punctuation\n",
    "from nltk.corpus import stopwords\n",
    "from nltk.stem import LancasterStemmer, WordNetLemmatizer\n",
    "import unidecode\n",
    "import contractions\n",
    "from wordcloud import WordCloud\n",
    "from sklearn.feature_extraction.text import CountVectorizer,TfidfVectorizer\n",
    "from langdetect import detect\n",
    "from googletrans import Translator"
   ]
  },
  {
   "cell_type": "markdown",
   "id": "03a101d9",
   "metadata": {},
   "source": [
    "## creating dataset"
   ]
  },
  {
   "cell_type": "code",
   "execution_count": 3,
   "id": "3534359d",
   "metadata": {},
   "outputs": [
    {
     "data": {
      "text/html": [
       "<div>\n",
       "<style scoped>\n",
       "    .dataframe tbody tr th:only-of-type {\n",
       "        vertical-align: middle;\n",
       "    }\n",
       "\n",
       "    .dataframe tbody tr th {\n",
       "        vertical-align: top;\n",
       "    }\n",
       "\n",
       "    .dataframe thead th {\n",
       "        text-align: right;\n",
       "    }\n",
       "</style>\n",
       "<table border=\"1\" class=\"dataframe\">\n",
       "  <thead>\n",
       "    <tr style=\"text-align: right;\">\n",
       "      <th></th>\n",
       "      <th>Unnamed: 0</th>\n",
       "      <th>title</th>\n",
       "      <th>rating</th>\n",
       "      <th>name</th>\n",
       "      <th>num_ratings</th>\n",
       "      <th>num_reviews</th>\n",
       "      <th>num_followers</th>\n",
       "      <th>synopsis</th>\n",
       "      <th>genre</th>\n",
       "    </tr>\n",
       "  </thead>\n",
       "  <tbody>\n",
       "    <tr>\n",
       "      <th>0</th>\n",
       "      <td>0</td>\n",
       "      <td>Sapiens: A Brief History of Humankind</td>\n",
       "      <td>4.39</td>\n",
       "      <td>Yuval Noah Harari</td>\n",
       "      <td>8,06,229</td>\n",
       "      <td>46,149</td>\n",
       "      <td>30.5k</td>\n",
       "      <td>100,000 years ago, at least six human species ...</td>\n",
       "      <td>history</td>\n",
       "    </tr>\n",
       "    <tr>\n",
       "      <th>1</th>\n",
       "      <td>1</td>\n",
       "      <td>Guns, Germs, and Steel: The Fates of Human Soc...</td>\n",
       "      <td>4.04</td>\n",
       "      <td>Jared Diamond</td>\n",
       "      <td>3,67,056</td>\n",
       "      <td>12,879</td>\n",
       "      <td>6,538</td>\n",
       "      <td>\"Diamond has written a book of remarkable scop...</td>\n",
       "      <td>history</td>\n",
       "    </tr>\n",
       "    <tr>\n",
       "      <th>2</th>\n",
       "      <td>2</td>\n",
       "      <td>A People's History of the United States</td>\n",
       "      <td>4.07</td>\n",
       "      <td>Howard Zinn</td>\n",
       "      <td>2,24,620</td>\n",
       "      <td>6,509</td>\n",
       "      <td>2,354</td>\n",
       "      <td>In the book, Zinn presented a different side o...</td>\n",
       "      <td>history</td>\n",
       "    </tr>\n",
       "    <tr>\n",
       "      <th>3</th>\n",
       "      <td>3</td>\n",
       "      <td>The Devil in the White City: Murder, Magic, an...</td>\n",
       "      <td>3.99</td>\n",
       "      <td>Erik Larson</td>\n",
       "      <td>6,13,157</td>\n",
       "      <td>36,644</td>\n",
       "      <td>64.2k</td>\n",
       "      <td>Author Erik Larson imbues the incredible event...</td>\n",
       "      <td>history</td>\n",
       "    </tr>\n",
       "    <tr>\n",
       "      <th>4</th>\n",
       "      <td>4</td>\n",
       "      <td>The Diary of a Young Girl</td>\n",
       "      <td>4.18</td>\n",
       "      <td>Anne Frank</td>\n",
       "      <td>33,13,033</td>\n",
       "      <td>35,591</td>\n",
       "      <td>4,621</td>\n",
       "      <td>Discovered in the attic in which she spent the...</td>\n",
       "      <td>history</td>\n",
       "    </tr>\n",
       "    <tr>\n",
       "      <th>...</th>\n",
       "      <td>...</td>\n",
       "      <td>...</td>\n",
       "      <td>...</td>\n",
       "      <td>...</td>\n",
       "      <td>...</td>\n",
       "      <td>...</td>\n",
       "      <td>...</td>\n",
       "      <td>...</td>\n",
       "      <td>...</td>\n",
       "    </tr>\n",
       "    <tr>\n",
       "      <th>1534</th>\n",
       "      <td>1534</td>\n",
       "      <td>Hounded</td>\n",
       "      <td>4.09</td>\n",
       "      <td>Kevin Hearne</td>\n",
       "      <td>83,827</td>\n",
       "      <td>7,203</td>\n",
       "      <td>11,905</td>\n",
       "      <td>Atticus O’Sullivan, last of the Druids, lives ...</td>\n",
       "      <td>fantasy</td>\n",
       "    </tr>\n",
       "    <tr>\n",
       "      <th>1535</th>\n",
       "      <td>1535</td>\n",
       "      <td>Charlie and the Chocolate Factory</td>\n",
       "      <td>4.15</td>\n",
       "      <td>Roald Dahl</td>\n",
       "      <td>7,75,001</td>\n",
       "      <td>14,252</td>\n",
       "      <td>22,897</td>\n",
       "      <td>Charlie Bucket's wonderful adventure begins wh...</td>\n",
       "      <td>fantasy</td>\n",
       "    </tr>\n",
       "    <tr>\n",
       "      <th>1536</th>\n",
       "      <td>1536</td>\n",
       "      <td>Red Rising</td>\n",
       "      <td>4.25</td>\n",
       "      <td>Pierce Brown</td>\n",
       "      <td>3,10,138</td>\n",
       "      <td>30,388</td>\n",
       "      <td>30,510</td>\n",
       "      <td>\"I live for the dream that my children will be...</td>\n",
       "      <td>fantasy</td>\n",
       "    </tr>\n",
       "    <tr>\n",
       "      <th>1537</th>\n",
       "      <td>1537</td>\n",
       "      <td>Frostbite</td>\n",
       "      <td>4.26</td>\n",
       "      <td>Richelle Mead</td>\n",
       "      <td>3,37,538</td>\n",
       "      <td>12,435</td>\n",
       "      <td>66,448</td>\n",
       "      <td>Rose loves Dimitri, Dimitri might love Tasha, ...</td>\n",
       "      <td>fantasy</td>\n",
       "    </tr>\n",
       "    <tr>\n",
       "      <th>1538</th>\n",
       "      <td>1538</td>\n",
       "      <td>Radiance</td>\n",
       "      <td>4.03</td>\n",
       "      <td>Grace Draven</td>\n",
       "      <td>50,102</td>\n",
       "      <td>5,550</td>\n",
       "      <td>6,090</td>\n",
       "      <td>The Prince of no value\\nBrishen Khaskem, princ...</td>\n",
       "      <td>fantasy</td>\n",
       "    </tr>\n",
       "  </tbody>\n",
       "</table>\n",
       "<p>1539 rows × 9 columns</p>\n",
       "</div>"
      ],
      "text/plain": [
       "      Unnamed: 0                                              title  rating  \\\n",
       "0              0              Sapiens: A Brief History of Humankind    4.39   \n",
       "1              1  Guns, Germs, and Steel: The Fates of Human Soc...    4.04   \n",
       "2              2            A People's History of the United States    4.07   \n",
       "3              3  The Devil in the White City: Murder, Magic, an...    3.99   \n",
       "4              4                          The Diary of a Young Girl    4.18   \n",
       "...          ...                                                ...     ...   \n",
       "1534        1534                                            Hounded    4.09   \n",
       "1535        1535                  Charlie and the Chocolate Factory    4.15   \n",
       "1536        1536                                         Red Rising    4.25   \n",
       "1537        1537                                          Frostbite    4.26   \n",
       "1538        1538                                           Radiance    4.03   \n",
       "\n",
       "                   name num_ratings num_reviews num_followers  \\\n",
       "0     Yuval Noah Harari    8,06,229      46,149         30.5k   \n",
       "1         Jared Diamond    3,67,056      12,879         6,538   \n",
       "2           Howard Zinn    2,24,620       6,509         2,354   \n",
       "3           Erik Larson    6,13,157      36,644         64.2k   \n",
       "4            Anne Frank   33,13,033      35,591         4,621   \n",
       "...                 ...         ...         ...           ...   \n",
       "1534       Kevin Hearne      83,827       7,203        11,905   \n",
       "1535         Roald Dahl    7,75,001      14,252        22,897   \n",
       "1536       Pierce Brown    3,10,138      30,388        30,510   \n",
       "1537      Richelle Mead    3,37,538      12,435        66,448   \n",
       "1538       Grace Draven      50,102       5,550         6,090   \n",
       "\n",
       "                                               synopsis    genre  \n",
       "0     100,000 years ago, at least six human species ...  history  \n",
       "1     \"Diamond has written a book of remarkable scop...  history  \n",
       "2     In the book, Zinn presented a different side o...  history  \n",
       "3     Author Erik Larson imbues the incredible event...  history  \n",
       "4     Discovered in the attic in which she spent the...  history  \n",
       "...                                                 ...      ...  \n",
       "1534  Atticus O’Sullivan, last of the Druids, lives ...  fantasy  \n",
       "1535  Charlie Bucket's wonderful adventure begins wh...  fantasy  \n",
       "1536  \"I live for the dream that my children will be...  fantasy  \n",
       "1537  Rose loves Dimitri, Dimitri might love Tasha, ...  fantasy  \n",
       "1538  The Prince of no value\\nBrishen Khaskem, princ...  fantasy  \n",
       "\n",
       "[1539 rows x 9 columns]"
      ]
     },
     "execution_count": 3,
     "metadata": {},
     "output_type": "execute_result"
    }
   ],
   "source": [
    "df = pd.read_csv(\"D:\\\\project 2 genre of books\\\\project.csv\")  # creating data set from the csv file.\n",
    "df"
   ]
  },
  {
   "cell_type": "code",
   "execution_count": 4,
   "id": "4b8869b2",
   "metadata": {
    "scrolled": true
   },
   "outputs": [
    {
     "name": "stdout",
     "output_type": "stream",
     "text": [
      "<class 'pandas.core.frame.DataFrame'>\n",
      "RangeIndex: 1539 entries, 0 to 1538\n",
      "Data columns (total 9 columns):\n",
      " #   Column         Non-Null Count  Dtype  \n",
      "---  ------         --------------  -----  \n",
      " 0   Unnamed: 0     1539 non-null   int64  \n",
      " 1   title          1539 non-null   object \n",
      " 2   rating         1539 non-null   float64\n",
      " 3   name           1539 non-null   object \n",
      " 4   num_ratings    1539 non-null   object \n",
      " 5   num_reviews    1539 non-null   object \n",
      " 6   num_followers  1539 non-null   object \n",
      " 7   synopsis       1539 non-null   object \n",
      " 8   genre          1539 non-null   object \n",
      "dtypes: float64(1), int64(1), object(7)\n",
      "memory usage: 108.3+ KB\n"
     ]
    }
   ],
   "source": [
    "df.info()   ## it will give all theoretical data regarding our dataset."
   ]
  },
  {
   "cell_type": "code",
   "execution_count": 5,
   "id": "7ff7d86d",
   "metadata": {},
   "outputs": [
    {
     "data": {
      "text/plain": [
       "Unnamed: 0       0\n",
       "title            0\n",
       "rating           0\n",
       "name             0\n",
       "num_ratings      0\n",
       "num_reviews      0\n",
       "num_followers    0\n",
       "synopsis         0\n",
       "genre            0\n",
       "dtype: int64"
      ]
     },
     "execution_count": 5,
     "metadata": {},
     "output_type": "execute_result"
    }
   ],
   "source": [
    "df.isna().sum()  ## gives idea about null values. here no null values are present."
   ]
  },
  {
   "cell_type": "code",
   "execution_count": 6,
   "id": "42d1696f",
   "metadata": {},
   "outputs": [
    {
     "data": {
      "text/plain": [
       "0"
      ]
     },
     "execution_count": 6,
     "metadata": {},
     "output_type": "execute_result"
    }
   ],
   "source": [
    "df.duplicated().sum()"
   ]
  },
  {
   "cell_type": "code",
   "execution_count": 7,
   "id": "d894f70e",
   "metadata": {},
   "outputs": [
    {
     "data": {
      "text/plain": [
       "(1539, 9)"
      ]
     },
     "execution_count": 7,
     "metadata": {},
     "output_type": "execute_result"
    }
   ],
   "source": [
    "df.shape ## tells us no of rows and columns."
   ]
  },
  {
   "cell_type": "markdown",
   "id": "ca4b0e77",
   "metadata": {},
   "source": [
    "## preprocessing"
   ]
  },
  {
   "cell_type": "code",
   "execution_count": 8,
   "id": "9cb84239",
   "metadata": {
    "scrolled": true
   },
   "outputs": [
    {
     "data": {
      "text/html": [
       "<div>\n",
       "<style scoped>\n",
       "    .dataframe tbody tr th:only-of-type {\n",
       "        vertical-align: middle;\n",
       "    }\n",
       "\n",
       "    .dataframe tbody tr th {\n",
       "        vertical-align: top;\n",
       "    }\n",
       "\n",
       "    .dataframe thead th {\n",
       "        text-align: right;\n",
       "    }\n",
       "</style>\n",
       "<table border=\"1\" class=\"dataframe\">\n",
       "  <thead>\n",
       "    <tr style=\"text-align: right;\">\n",
       "      <th></th>\n",
       "      <th>title</th>\n",
       "      <th>synopsis</th>\n",
       "      <th>genre</th>\n",
       "    </tr>\n",
       "  </thead>\n",
       "  <tbody>\n",
       "    <tr>\n",
       "      <th>0</th>\n",
       "      <td>Sapiens: A Brief History of Humankind</td>\n",
       "      <td>100,000 years ago, at least six human species ...</td>\n",
       "      <td>history</td>\n",
       "    </tr>\n",
       "    <tr>\n",
       "      <th>1</th>\n",
       "      <td>Guns, Germs, and Steel: The Fates of Human Soc...</td>\n",
       "      <td>\"Diamond has written a book of remarkable scop...</td>\n",
       "      <td>history</td>\n",
       "    </tr>\n",
       "    <tr>\n",
       "      <th>2</th>\n",
       "      <td>A People's History of the United States</td>\n",
       "      <td>In the book, Zinn presented a different side o...</td>\n",
       "      <td>history</td>\n",
       "    </tr>\n",
       "    <tr>\n",
       "      <th>3</th>\n",
       "      <td>The Devil in the White City: Murder, Magic, an...</td>\n",
       "      <td>Author Erik Larson imbues the incredible event...</td>\n",
       "      <td>history</td>\n",
       "    </tr>\n",
       "    <tr>\n",
       "      <th>4</th>\n",
       "      <td>The Diary of a Young Girl</td>\n",
       "      <td>Discovered in the attic in which she spent the...</td>\n",
       "      <td>history</td>\n",
       "    </tr>\n",
       "    <tr>\n",
       "      <th>...</th>\n",
       "      <td>...</td>\n",
       "      <td>...</td>\n",
       "      <td>...</td>\n",
       "    </tr>\n",
       "    <tr>\n",
       "      <th>1534</th>\n",
       "      <td>Hounded</td>\n",
       "      <td>Atticus O’Sullivan, last of the Druids, lives ...</td>\n",
       "      <td>fantasy</td>\n",
       "    </tr>\n",
       "    <tr>\n",
       "      <th>1535</th>\n",
       "      <td>Charlie and the Chocolate Factory</td>\n",
       "      <td>Charlie Bucket's wonderful adventure begins wh...</td>\n",
       "      <td>fantasy</td>\n",
       "    </tr>\n",
       "    <tr>\n",
       "      <th>1536</th>\n",
       "      <td>Red Rising</td>\n",
       "      <td>\"I live for the dream that my children will be...</td>\n",
       "      <td>fantasy</td>\n",
       "    </tr>\n",
       "    <tr>\n",
       "      <th>1537</th>\n",
       "      <td>Frostbite</td>\n",
       "      <td>Rose loves Dimitri, Dimitri might love Tasha, ...</td>\n",
       "      <td>fantasy</td>\n",
       "    </tr>\n",
       "    <tr>\n",
       "      <th>1538</th>\n",
       "      <td>Radiance</td>\n",
       "      <td>The Prince of no value\\nBrishen Khaskem, princ...</td>\n",
       "      <td>fantasy</td>\n",
       "    </tr>\n",
       "  </tbody>\n",
       "</table>\n",
       "<p>1539 rows × 3 columns</p>\n",
       "</div>"
      ],
      "text/plain": [
       "                                                  title  \\\n",
       "0                 Sapiens: A Brief History of Humankind   \n",
       "1     Guns, Germs, and Steel: The Fates of Human Soc...   \n",
       "2               A People's History of the United States   \n",
       "3     The Devil in the White City: Murder, Magic, an...   \n",
       "4                             The Diary of a Young Girl   \n",
       "...                                                 ...   \n",
       "1534                                            Hounded   \n",
       "1535                  Charlie and the Chocolate Factory   \n",
       "1536                                         Red Rising   \n",
       "1537                                          Frostbite   \n",
       "1538                                           Radiance   \n",
       "\n",
       "                                               synopsis    genre  \n",
       "0     100,000 years ago, at least six human species ...  history  \n",
       "1     \"Diamond has written a book of remarkable scop...  history  \n",
       "2     In the book, Zinn presented a different side o...  history  \n",
       "3     Author Erik Larson imbues the incredible event...  history  \n",
       "4     Discovered in the attic in which she spent the...  history  \n",
       "...                                                 ...      ...  \n",
       "1534  Atticus O’Sullivan, last of the Druids, lives ...  fantasy  \n",
       "1535  Charlie Bucket's wonderful adventure begins wh...  fantasy  \n",
       "1536  \"I live for the dream that my children will be...  fantasy  \n",
       "1537  Rose loves Dimitri, Dimitri might love Tasha, ...  fantasy  \n",
       "1538  The Prince of no value\\nBrishen Khaskem, princ...  fantasy  \n",
       "\n",
       "[1539 rows x 3 columns]"
      ]
     },
     "execution_count": 8,
     "metadata": {},
     "output_type": "execute_result"
    }
   ],
   "source": [
    "df = df[[\"title\",\"synopsis\",\"genre\"]]  ## considering columns which are required for our model.\n",
    "df"
   ]
  },
  {
   "cell_type": "code",
   "execution_count": 9,
   "id": "25de8df4",
   "metadata": {},
   "outputs": [],
   "source": [
    "def lang_detect(data):  ## detecting the type of language present in the synopsis as book can be from any region.\n",
    "    lang1 = detect(data)  ## support by default 55 languages.\n",
    "    return lang1"
   ]
  },
  {
   "cell_type": "code",
   "execution_count": 10,
   "id": "8b6ef12d",
   "metadata": {},
   "outputs": [
    {
     "data": {
      "text/html": [
       "<div>\n",
       "<style scoped>\n",
       "    .dataframe tbody tr th:only-of-type {\n",
       "        vertical-align: middle;\n",
       "    }\n",
       "\n",
       "    .dataframe tbody tr th {\n",
       "        vertical-align: top;\n",
       "    }\n",
       "\n",
       "    .dataframe thead th {\n",
       "        text-align: right;\n",
       "    }\n",
       "</style>\n",
       "<table border=\"1\" class=\"dataframe\">\n",
       "  <thead>\n",
       "    <tr style=\"text-align: right;\">\n",
       "      <th></th>\n",
       "      <th>title</th>\n",
       "      <th>synopsis</th>\n",
       "      <th>genre</th>\n",
       "      <th>language_detected</th>\n",
       "    </tr>\n",
       "  </thead>\n",
       "  <tbody>\n",
       "    <tr>\n",
       "      <th>0</th>\n",
       "      <td>Sapiens: A Brief History of Humankind</td>\n",
       "      <td>100,000 years ago, at least six human species ...</td>\n",
       "      <td>history</td>\n",
       "      <td>en</td>\n",
       "    </tr>\n",
       "    <tr>\n",
       "      <th>1</th>\n",
       "      <td>Guns, Germs, and Steel: The Fates of Human Soc...</td>\n",
       "      <td>\"Diamond has written a book of remarkable scop...</td>\n",
       "      <td>history</td>\n",
       "      <td>en</td>\n",
       "    </tr>\n",
       "    <tr>\n",
       "      <th>2</th>\n",
       "      <td>A People's History of the United States</td>\n",
       "      <td>In the book, Zinn presented a different side o...</td>\n",
       "      <td>history</td>\n",
       "      <td>en</td>\n",
       "    </tr>\n",
       "    <tr>\n",
       "      <th>3</th>\n",
       "      <td>The Devil in the White City: Murder, Magic, an...</td>\n",
       "      <td>Author Erik Larson imbues the incredible event...</td>\n",
       "      <td>history</td>\n",
       "      <td>en</td>\n",
       "    </tr>\n",
       "    <tr>\n",
       "      <th>4</th>\n",
       "      <td>The Diary of a Young Girl</td>\n",
       "      <td>Discovered in the attic in which she spent the...</td>\n",
       "      <td>history</td>\n",
       "      <td>en</td>\n",
       "    </tr>\n",
       "    <tr>\n",
       "      <th>...</th>\n",
       "      <td>...</td>\n",
       "      <td>...</td>\n",
       "      <td>...</td>\n",
       "      <td>...</td>\n",
       "    </tr>\n",
       "    <tr>\n",
       "      <th>1534</th>\n",
       "      <td>Hounded</td>\n",
       "      <td>Atticus O’Sullivan, last of the Druids, lives ...</td>\n",
       "      <td>fantasy</td>\n",
       "      <td>en</td>\n",
       "    </tr>\n",
       "    <tr>\n",
       "      <th>1535</th>\n",
       "      <td>Charlie and the Chocolate Factory</td>\n",
       "      <td>Charlie Bucket's wonderful adventure begins wh...</td>\n",
       "      <td>fantasy</td>\n",
       "      <td>en</td>\n",
       "    </tr>\n",
       "    <tr>\n",
       "      <th>1536</th>\n",
       "      <td>Red Rising</td>\n",
       "      <td>\"I live for the dream that my children will be...</td>\n",
       "      <td>fantasy</td>\n",
       "      <td>en</td>\n",
       "    </tr>\n",
       "    <tr>\n",
       "      <th>1537</th>\n",
       "      <td>Frostbite</td>\n",
       "      <td>Rose loves Dimitri, Dimitri might love Tasha, ...</td>\n",
       "      <td>fantasy</td>\n",
       "      <td>en</td>\n",
       "    </tr>\n",
       "    <tr>\n",
       "      <th>1538</th>\n",
       "      <td>Radiance</td>\n",
       "      <td>The Prince of no value\\nBrishen Khaskem, princ...</td>\n",
       "      <td>fantasy</td>\n",
       "      <td>en</td>\n",
       "    </tr>\n",
       "  </tbody>\n",
       "</table>\n",
       "<p>1539 rows × 4 columns</p>\n",
       "</div>"
      ],
      "text/plain": [
       "                                                  title  \\\n",
       "0                 Sapiens: A Brief History of Humankind   \n",
       "1     Guns, Germs, and Steel: The Fates of Human Soc...   \n",
       "2               A People's History of the United States   \n",
       "3     The Devil in the White City: Murder, Magic, an...   \n",
       "4                             The Diary of a Young Girl   \n",
       "...                                                 ...   \n",
       "1534                                            Hounded   \n",
       "1535                  Charlie and the Chocolate Factory   \n",
       "1536                                         Red Rising   \n",
       "1537                                          Frostbite   \n",
       "1538                                           Radiance   \n",
       "\n",
       "                                               synopsis    genre  \\\n",
       "0     100,000 years ago, at least six human species ...  history   \n",
       "1     \"Diamond has written a book of remarkable scop...  history   \n",
       "2     In the book, Zinn presented a different side o...  history   \n",
       "3     Author Erik Larson imbues the incredible event...  history   \n",
       "4     Discovered in the attic in which she spent the...  history   \n",
       "...                                                 ...      ...   \n",
       "1534  Atticus O’Sullivan, last of the Druids, lives ...  fantasy   \n",
       "1535  Charlie Bucket's wonderful adventure begins wh...  fantasy   \n",
       "1536  \"I live for the dream that my children will be...  fantasy   \n",
       "1537  Rose loves Dimitri, Dimitri might love Tasha, ...  fantasy   \n",
       "1538  The Prince of no value\\nBrishen Khaskem, princ...  fantasy   \n",
       "\n",
       "     language_detected  \n",
       "0                   en  \n",
       "1                   en  \n",
       "2                   en  \n",
       "3                   en  \n",
       "4                   en  \n",
       "...                ...  \n",
       "1534                en  \n",
       "1535                en  \n",
       "1536                en  \n",
       "1537                en  \n",
       "1538                en  \n",
       "\n",
       "[1539 rows x 4 columns]"
      ]
     },
     "execution_count": 10,
     "metadata": {},
     "output_type": "execute_result"
    }
   ],
   "source": [
    "df[\"language_detected\"] = df[\"synopsis\"].apply(lang_detect)  ## .apply is used to apply user defined function to dataframe \n",
    "df"
   ]
  },
  {
   "cell_type": "code",
   "execution_count": 11,
   "id": "deebdf94",
   "metadata": {},
   "outputs": [
    {
     "data": {
      "text/plain": [
       "en    1523\n",
       "es       4\n",
       "fr       3\n",
       "de       3\n",
       "nl       1\n",
       "vi       1\n",
       "pt       1\n",
       "pl       1\n",
       "hu       1\n",
       "lt       1\n",
       "Name: language_detected, dtype: int64"
      ]
     },
     "execution_count": 11,
     "metadata": {},
     "output_type": "execute_result"
    }
   ],
   "source": [
    "df[\"language_detected\"].value_counts()  ## there are differen languages present need to change in to enlish"
   ]
  },
  {
   "cell_type": "code",
   "execution_count": 15,
   "id": "f3c36f8a",
   "metadata": {},
   "outputs": [],
   "source": [
    "def lang_translate(data):             ## used to translate different languages to enlish by default. \n",
    "    translator = Translator()\n",
    "    trans_data = translator.translate(data)\n",
    "    return trans_data.text"
   ]
  },
  {
   "cell_type": "code",
   "execution_count": 16,
   "id": "c4696d92",
   "metadata": {
    "scrolled": false
   },
   "outputs": [
    {
     "data": {
      "text/html": [
       "<div>\n",
       "<style scoped>\n",
       "    .dataframe tbody tr th:only-of-type {\n",
       "        vertical-align: middle;\n",
       "    }\n",
       "\n",
       "    .dataframe tbody tr th {\n",
       "        vertical-align: top;\n",
       "    }\n",
       "\n",
       "    .dataframe thead th {\n",
       "        text-align: right;\n",
       "    }\n",
       "</style>\n",
       "<table border=\"1\" class=\"dataframe\">\n",
       "  <thead>\n",
       "    <tr style=\"text-align: right;\">\n",
       "      <th></th>\n",
       "      <th>title</th>\n",
       "      <th>synopsis</th>\n",
       "      <th>genre</th>\n",
       "      <th>language_detected</th>\n",
       "      <th>translated_synopsis</th>\n",
       "    </tr>\n",
       "  </thead>\n",
       "  <tbody>\n",
       "    <tr>\n",
       "      <th>0</th>\n",
       "      <td>Sapiens: A Brief History of Humankind</td>\n",
       "      <td>100,000 years ago, at least six human species ...</td>\n",
       "      <td>history</td>\n",
       "      <td>en</td>\n",
       "      <td>100,000 years ago, at least six human species ...</td>\n",
       "    </tr>\n",
       "    <tr>\n",
       "      <th>1</th>\n",
       "      <td>Guns, Germs, and Steel: The Fates of Human Soc...</td>\n",
       "      <td>\"Diamond has written a book of remarkable scop...</td>\n",
       "      <td>history</td>\n",
       "      <td>en</td>\n",
       "      <td>\"Diamond has written a book of remarkable scop...</td>\n",
       "    </tr>\n",
       "    <tr>\n",
       "      <th>2</th>\n",
       "      <td>A People's History of the United States</td>\n",
       "      <td>In the book, Zinn presented a different side o...</td>\n",
       "      <td>history</td>\n",
       "      <td>en</td>\n",
       "      <td>In the book, Zinn presented a different side o...</td>\n",
       "    </tr>\n",
       "    <tr>\n",
       "      <th>3</th>\n",
       "      <td>The Devil in the White City: Murder, Magic, an...</td>\n",
       "      <td>Author Erik Larson imbues the incredible event...</td>\n",
       "      <td>history</td>\n",
       "      <td>en</td>\n",
       "      <td>Author Erik Larson imbues the incredible event...</td>\n",
       "    </tr>\n",
       "    <tr>\n",
       "      <th>4</th>\n",
       "      <td>The Diary of a Young Girl</td>\n",
       "      <td>Discovered in the attic in which she spent the...</td>\n",
       "      <td>history</td>\n",
       "      <td>en</td>\n",
       "      <td>Discovered in the attic in which she spent the...</td>\n",
       "    </tr>\n",
       "    <tr>\n",
       "      <th>...</th>\n",
       "      <td>...</td>\n",
       "      <td>...</td>\n",
       "      <td>...</td>\n",
       "      <td>...</td>\n",
       "      <td>...</td>\n",
       "    </tr>\n",
       "    <tr>\n",
       "      <th>1534</th>\n",
       "      <td>Hounded</td>\n",
       "      <td>Atticus O’Sullivan, last of the Druids, lives ...</td>\n",
       "      <td>fantasy</td>\n",
       "      <td>en</td>\n",
       "      <td>Atticus O’Sullivan, last of the Druids, lives ...</td>\n",
       "    </tr>\n",
       "    <tr>\n",
       "      <th>1535</th>\n",
       "      <td>Charlie and the Chocolate Factory</td>\n",
       "      <td>Charlie Bucket's wonderful adventure begins wh...</td>\n",
       "      <td>fantasy</td>\n",
       "      <td>en</td>\n",
       "      <td>Charlie Bucket's wonderful adventure begins wh...</td>\n",
       "    </tr>\n",
       "    <tr>\n",
       "      <th>1536</th>\n",
       "      <td>Red Rising</td>\n",
       "      <td>\"I live for the dream that my children will be...</td>\n",
       "      <td>fantasy</td>\n",
       "      <td>en</td>\n",
       "      <td>\"I live for the dream that my children will be...</td>\n",
       "    </tr>\n",
       "    <tr>\n",
       "      <th>1537</th>\n",
       "      <td>Frostbite</td>\n",
       "      <td>Rose loves Dimitri, Dimitri might love Tasha, ...</td>\n",
       "      <td>fantasy</td>\n",
       "      <td>en</td>\n",
       "      <td>Rose loves Dimitri, Dimitri might love Tasha, ...</td>\n",
       "    </tr>\n",
       "    <tr>\n",
       "      <th>1538</th>\n",
       "      <td>Radiance</td>\n",
       "      <td>The Prince of no value\\nBrishen Khaskem, princ...</td>\n",
       "      <td>fantasy</td>\n",
       "      <td>en</td>\n",
       "      <td>The Prince of no value\\nBrishen Khaskem, princ...</td>\n",
       "    </tr>\n",
       "  </tbody>\n",
       "</table>\n",
       "<p>1539 rows × 5 columns</p>\n",
       "</div>"
      ],
      "text/plain": [
       "                                                  title  \\\n",
       "0                 Sapiens: A Brief History of Humankind   \n",
       "1     Guns, Germs, and Steel: The Fates of Human Soc...   \n",
       "2               A People's History of the United States   \n",
       "3     The Devil in the White City: Murder, Magic, an...   \n",
       "4                             The Diary of a Young Girl   \n",
       "...                                                 ...   \n",
       "1534                                            Hounded   \n",
       "1535                  Charlie and the Chocolate Factory   \n",
       "1536                                         Red Rising   \n",
       "1537                                          Frostbite   \n",
       "1538                                           Radiance   \n",
       "\n",
       "                                               synopsis    genre  \\\n",
       "0     100,000 years ago, at least six human species ...  history   \n",
       "1     \"Diamond has written a book of remarkable scop...  history   \n",
       "2     In the book, Zinn presented a different side o...  history   \n",
       "3     Author Erik Larson imbues the incredible event...  history   \n",
       "4     Discovered in the attic in which she spent the...  history   \n",
       "...                                                 ...      ...   \n",
       "1534  Atticus O’Sullivan, last of the Druids, lives ...  fantasy   \n",
       "1535  Charlie Bucket's wonderful adventure begins wh...  fantasy   \n",
       "1536  \"I live for the dream that my children will be...  fantasy   \n",
       "1537  Rose loves Dimitri, Dimitri might love Tasha, ...  fantasy   \n",
       "1538  The Prince of no value\\nBrishen Khaskem, princ...  fantasy   \n",
       "\n",
       "     language_detected                                translated_synopsis  \n",
       "0                   en  100,000 years ago, at least six human species ...  \n",
       "1                   en  \"Diamond has written a book of remarkable scop...  \n",
       "2                   en  In the book, Zinn presented a different side o...  \n",
       "3                   en  Author Erik Larson imbues the incredible event...  \n",
       "4                   en  Discovered in the attic in which she spent the...  \n",
       "...                ...                                                ...  \n",
       "1534                en  Atticus O’Sullivan, last of the Druids, lives ...  \n",
       "1535                en  Charlie Bucket's wonderful adventure begins wh...  \n",
       "1536                en  \"I live for the dream that my children will be...  \n",
       "1537                en  Rose loves Dimitri, Dimitri might love Tasha, ...  \n",
       "1538                en  The Prince of no value\\nBrishen Khaskem, princ...  \n",
       "\n",
       "[1539 rows x 5 columns]"
      ]
     },
     "execution_count": 16,
     "metadata": {},
     "output_type": "execute_result"
    }
   ],
   "source": [
    "df[\"translated_synopsis\"] = df[\"synopsis\"].apply(lang_translate)\n",
    "df"
   ]
  },
  {
   "cell_type": "code",
   "execution_count": 17,
   "id": "808931b8",
   "metadata": {},
   "outputs": [
    {
     "data": {
      "text/plain": [
       "title                  1539\n",
       "synopsis               1539\n",
       "genre                    10\n",
       "language_detected        10\n",
       "translated_synopsis    1539\n",
       "dtype: int64"
      ]
     },
     "execution_count": 17,
     "metadata": {},
     "output_type": "execute_result"
    }
   ],
   "source": [
    "df.nunique()   ## gives no of unique categories in each column"
   ]
  },
  {
   "cell_type": "code",
   "execution_count": 18,
   "id": "37dde669",
   "metadata": {},
   "outputs": [
    {
     "data": {
      "text/plain": [
       "title                  0\n",
       "synopsis               0\n",
       "genre                  0\n",
       "language_detected      0\n",
       "translated_synopsis    0\n",
       "dtype: int64"
      ]
     },
     "execution_count": 18,
     "metadata": {},
     "output_type": "execute_result"
    }
   ],
   "source": [
    "df.isna().sum() ## gives no of null values , no null values is present in the data set"
   ]
  },
  {
   "cell_type": "code",
   "execution_count": 19,
   "id": "b5f1c016",
   "metadata": {},
   "outputs": [],
   "source": [
    "df2 = df.drop([\"synopsis\",\"language_detected\"],axis = 1) ## dropping unwanted columns."
   ]
  },
  {
   "cell_type": "code",
   "execution_count": 20,
   "id": "9129ad2b",
   "metadata": {},
   "outputs": [
    {
     "data": {
      "text/html": [
       "<div>\n",
       "<style scoped>\n",
       "    .dataframe tbody tr th:only-of-type {\n",
       "        vertical-align: middle;\n",
       "    }\n",
       "\n",
       "    .dataframe tbody tr th {\n",
       "        vertical-align: top;\n",
       "    }\n",
       "\n",
       "    .dataframe thead th {\n",
       "        text-align: right;\n",
       "    }\n",
       "</style>\n",
       "<table border=\"1\" class=\"dataframe\">\n",
       "  <thead>\n",
       "    <tr style=\"text-align: right;\">\n",
       "      <th></th>\n",
       "      <th>title</th>\n",
       "      <th>genre</th>\n",
       "      <th>translated_synopsis</th>\n",
       "    </tr>\n",
       "  </thead>\n",
       "  <tbody>\n",
       "    <tr>\n",
       "      <th>0</th>\n",
       "      <td>Sapiens: A Brief History of Humankind</td>\n",
       "      <td>history</td>\n",
       "      <td>100,000 years ago, at least six human species ...</td>\n",
       "    </tr>\n",
       "    <tr>\n",
       "      <th>1</th>\n",
       "      <td>Guns, Germs, and Steel: The Fates of Human Soc...</td>\n",
       "      <td>history</td>\n",
       "      <td>\"Diamond has written a book of remarkable scop...</td>\n",
       "    </tr>\n",
       "    <tr>\n",
       "      <th>2</th>\n",
       "      <td>A People's History of the United States</td>\n",
       "      <td>history</td>\n",
       "      <td>In the book, Zinn presented a different side o...</td>\n",
       "    </tr>\n",
       "    <tr>\n",
       "      <th>3</th>\n",
       "      <td>The Devil in the White City: Murder, Magic, an...</td>\n",
       "      <td>history</td>\n",
       "      <td>Author Erik Larson imbues the incredible event...</td>\n",
       "    </tr>\n",
       "    <tr>\n",
       "      <th>4</th>\n",
       "      <td>The Diary of a Young Girl</td>\n",
       "      <td>history</td>\n",
       "      <td>Discovered in the attic in which she spent the...</td>\n",
       "    </tr>\n",
       "    <tr>\n",
       "      <th>...</th>\n",
       "      <td>...</td>\n",
       "      <td>...</td>\n",
       "      <td>...</td>\n",
       "    </tr>\n",
       "    <tr>\n",
       "      <th>1534</th>\n",
       "      <td>Hounded</td>\n",
       "      <td>fantasy</td>\n",
       "      <td>Atticus O’Sullivan, last of the Druids, lives ...</td>\n",
       "    </tr>\n",
       "    <tr>\n",
       "      <th>1535</th>\n",
       "      <td>Charlie and the Chocolate Factory</td>\n",
       "      <td>fantasy</td>\n",
       "      <td>Charlie Bucket's wonderful adventure begins wh...</td>\n",
       "    </tr>\n",
       "    <tr>\n",
       "      <th>1536</th>\n",
       "      <td>Red Rising</td>\n",
       "      <td>fantasy</td>\n",
       "      <td>\"I live for the dream that my children will be...</td>\n",
       "    </tr>\n",
       "    <tr>\n",
       "      <th>1537</th>\n",
       "      <td>Frostbite</td>\n",
       "      <td>fantasy</td>\n",
       "      <td>Rose loves Dimitri, Dimitri might love Tasha, ...</td>\n",
       "    </tr>\n",
       "    <tr>\n",
       "      <th>1538</th>\n",
       "      <td>Radiance</td>\n",
       "      <td>fantasy</td>\n",
       "      <td>The Prince of no value\\nBrishen Khaskem, princ...</td>\n",
       "    </tr>\n",
       "  </tbody>\n",
       "</table>\n",
       "<p>1539 rows × 3 columns</p>\n",
       "</div>"
      ],
      "text/plain": [
       "                                                  title    genre  \\\n",
       "0                 Sapiens: A Brief History of Humankind  history   \n",
       "1     Guns, Germs, and Steel: The Fates of Human Soc...  history   \n",
       "2               A People's History of the United States  history   \n",
       "3     The Devil in the White City: Murder, Magic, an...  history   \n",
       "4                             The Diary of a Young Girl  history   \n",
       "...                                                 ...      ...   \n",
       "1534                                            Hounded  fantasy   \n",
       "1535                  Charlie and the Chocolate Factory  fantasy   \n",
       "1536                                         Red Rising  fantasy   \n",
       "1537                                          Frostbite  fantasy   \n",
       "1538                                           Radiance  fantasy   \n",
       "\n",
       "                                    translated_synopsis  \n",
       "0     100,000 years ago, at least six human species ...  \n",
       "1     \"Diamond has written a book of remarkable scop...  \n",
       "2     In the book, Zinn presented a different side o...  \n",
       "3     Author Erik Larson imbues the incredible event...  \n",
       "4     Discovered in the attic in which she spent the...  \n",
       "...                                                 ...  \n",
       "1534  Atticus O’Sullivan, last of the Druids, lives ...  \n",
       "1535  Charlie Bucket's wonderful adventure begins wh...  \n",
       "1536  \"I live for the dream that my children will be...  \n",
       "1537  Rose loves Dimitri, Dimitri might love Tasha, ...  \n",
       "1538  The Prince of no value\\nBrishen Khaskem, princ...  \n",
       "\n",
       "[1539 rows x 3 columns]"
      ]
     },
     "execution_count": 20,
     "metadata": {},
     "output_type": "execute_result"
    }
   ],
   "source": [
    "df2"
   ]
  },
  {
   "cell_type": "code",
   "execution_count": 21,
   "id": "aff70549",
   "metadata": {},
   "outputs": [
    {
     "data": {
      "text/plain": [
       "array([1, 2, 3, 4, 5, 6, 7, 8, 9, 0])"
      ]
     },
     "execution_count": 21,
     "metadata": {},
     "output_type": "execute_result"
    }
   ],
   "source": [
    "df2['genre'] = LabelEncoder().fit_transform(df2['genre'])  ## label encoding of target column. \n",
    "df2['genre'].unique()"
   ]
  },
  {
   "cell_type": "code",
   "execution_count": 22,
   "id": "26a4b3a3",
   "metadata": {},
   "outputs": [],
   "source": [
    "x = df2[\"translated_synopsis\"]  ## creating dependent and independent data sets.\n",
    "y = df2[\"genre\"]"
   ]
  },
  {
   "cell_type": "code",
   "execution_count": 23,
   "id": "9e31f229",
   "metadata": {},
   "outputs": [],
   "source": [
    "xtrain, xtest, ytrain, ytest = train_test_split(x, y, test_size = 0.3, random_state = 10)\n",
    " ## splitting training and testing datasets"
   ]
  },
  {
   "cell_type": "code",
   "execution_count": 24,
   "id": "1c5939b8",
   "metadata": {},
   "outputs": [],
   "source": [
    "def new_line(data):   ## for removing new lines\n",
    "    clean_text = data.replace(\"\\n\",\"\").replace(\"\\\\n\",\"\").replace(\"\\t\",\"\").replace(\"\\\\\",\"\")\n",
    "    return clean_text"
   ]
  },
  {
   "cell_type": "code",
   "execution_count": 25,
   "id": "cc0e372d",
   "metadata": {},
   "outputs": [],
   "source": [
    "train_clean_text = xtrain.apply(new_line)\n",
    "test_clean_text = xtest.apply(new_line)"
   ]
  },
  {
   "cell_type": "code",
   "execution_count": 26,
   "id": "c64b6e62",
   "metadata": {},
   "outputs": [],
   "source": [
    "def white_space(data):   ## for removing multiple whitespaces\n",
    "    clean_text = re.sub(r\"\\s+\",\"\",data)\n",
    "    return clean_text"
   ]
  },
  {
   "cell_type": "code",
   "execution_count": 27,
   "id": "9eb86430",
   "metadata": {},
   "outputs": [],
   "source": [
    "train_clean_text = xtrain.apply(white_space)\n",
    "test_clean_text = xtest.apply(white_space)"
   ]
  },
  {
   "cell_type": "code",
   "execution_count": 28,
   "id": "464579cd",
   "metadata": {},
   "outputs": [],
   "source": [
    "def accented_ch(data):   ## for removing accented characters\n",
    "    clean_text = unidecode.unidecode(data)\n",
    "    return clean_text"
   ]
  },
  {
   "cell_type": "code",
   "execution_count": 29,
   "id": "fc02d9da",
   "metadata": {},
   "outputs": [],
   "source": [
    "train_clean_text = xtrain.apply(accented_ch)\n",
    "test_clean_text = xtest.apply(accented_ch)"
   ]
  },
  {
   "cell_type": "code",
   "execution_count": 30,
   "id": "593963de",
   "metadata": {},
   "outputs": [],
   "source": [
    "def contraction(data):          ## used for contraction mapping\n",
    "    tokens = data.split() \n",
    "    expanded_words = []\n",
    "    for words in tokens:\n",
    "        expanded_words.append(contractions.fix(words))\n",
    "    expanded_text = \" \".join(expanded_words)\n",
    "    return expanded_text"
   ]
  },
  {
   "cell_type": "code",
   "execution_count": 31,
   "id": "b737381f",
   "metadata": {},
   "outputs": [],
   "source": [
    "train_clean_text = xtrain.apply(contraction)\n",
    "test_clean_text = xtest.apply(contraction)"
   ]
  },
  {
   "cell_type": "code",
   "execution_count": 32,
   "id": "ddb79b86",
   "metadata": {},
   "outputs": [
    {
     "name": "stdout",
     "output_type": "stream",
     "text": [
      "['i', 'me', 'my', 'myself', 'we', 'our', 'ours', 'ourselves', 'you', \"you're\", \"you've\", \"you'll\", \"you'd\", 'your', 'yours', 'yourself', 'yourselves', 'he', 'him', 'his', 'himself', 'she', \"she's\", 'her', 'hers', 'herself', 'it', \"it's\", 'its', 'itself', 'they', 'them', 'their', 'theirs', 'themselves', 'what', 'which', 'who', 'whom', 'this', 'that', \"that'll\", 'these', 'those', 'am', 'is', 'are', 'was', 'were', 'be', 'been', 'being', 'have', 'has', 'had', 'having', 'do', 'does', 'did', 'doing', 'a', 'an', 'the', 'and', 'but', 'if', 'or', 'because', 'as', 'until', 'while', 'of', 'at', 'by', 'for', 'with', 'about', 'against', 'between', 'into', 'through', 'during', 'before', 'after', 'above', 'below', 'to', 'from', 'up', 'down', 'in', 'out', 'on', 'off', 'over', 'under', 'again', 'further', 'then', 'once', 'here', 'there', 'when', 'where', 'why', 'how', 'all', 'any', 'both', 'each', 'few', 'more', 'most', 'other', 'some', 'such', 'no', 'nor', 'not', 'only', 'own', 'same', 'so', 'than', 'too', 'very', 's', 't', 'can', 'will', 'just', 'don', \"don't\", 'should', \"should've\", 'now', 'd', 'll', 'm', 'o', 're', 've', 'y', 'ain', 'aren', \"aren't\", 'couldn', \"couldn't\", 'didn', \"didn't\", 'doesn', \"doesn't\", 'hadn', \"hadn't\", 'hasn', \"hasn't\", 'haven', \"haven't\", 'isn', \"isn't\", 'ma', 'mightn', \"mightn't\", 'mustn', \"mustn't\", 'needn', \"needn't\", 'shan', \"shan't\", 'shouldn', \"shouldn't\", 'wasn', \"wasn't\", 'weren', \"weren't\", 'won', \"won't\", 'wouldn', \"wouldn't\"]\n",
      "\n",
      "!\"#$%&'()*+,-./:;<=>?@[\\]^_`{|}~\n"
     ]
    }
   ],
   "source": [
    "stop = stopwords.words(\"english\")\n",
    "print(stop)\n",
    "print()\n",
    "print(punctuation)"
   ]
  },
  {
   "cell_type": "code",
   "execution_count": 33,
   "id": "09c09964",
   "metadata": {},
   "outputs": [],
   "source": [
    "def stop_words(data):                                   ## for removing stop word and punctuations.\n",
    "    tokens = RegexpTokenizer(r\"[\\w']+\").tokenize(data)\n",
    "    clean_text = [a for a in tokens if a not in stop]\n",
    "    final_text = []\n",
    "    for word in clean_text:\n",
    "        if (len(word)>=2) or word in punctuation:\n",
    "            pass\n",
    "    else:\n",
    "        final_text.append(word)\n",
    "    text = \" \".join(final_text)\n",
    "    return text"
   ]
  },
  {
   "cell_type": "code",
   "execution_count": 34,
   "id": "da913060",
   "metadata": {},
   "outputs": [],
   "source": [
    "train_clean_text = xtrain.apply(stop_words)\n",
    "test_clean_text = xtest.apply(stop_words)"
   ]
  },
  {
   "cell_type": "code",
   "execution_count": 35,
   "id": "0a3efee1",
   "metadata": {},
   "outputs": [],
   "source": [
    "def lemmatization(data):                              ## tokenizing the data.\n",
    "    tokens = word_tokenize(data)\n",
    "    tokens = [word.lower() for word in tokens if word.isalpha()]\n",
    "    lemma = WordNetLemmatizer()\n",
    "    final_text =[]\n",
    "    for i in tokens:\n",
    "        lemmatized_word = lemma.lemmatize(i)\n",
    "        final_text.append(lemmatized_word)\n",
    "    return \" \".join(final_text)"
   ]
  },
  {
   "cell_type": "code",
   "execution_count": 36,
   "id": "253eee7b",
   "metadata": {},
   "outputs": [],
   "source": [
    "train_clean_text = xtrain.apply(lemmatization)\n",
    "test_clean_text = xtest.apply(lemmatization)"
   ]
  },
  {
   "cell_type": "code",
   "execution_count": 37,
   "id": "d41d7415",
   "metadata": {},
   "outputs": [],
   "source": [
    "# def spelling_correction(data):   ## too much time consuming thats why skipped for now . used for spelling correction\n",
    "#     spell = Speller(lang='en')\n",
    "#     corrrected_text = spell(data)\n",
    "#     return corrrected_text"
   ]
  },
  {
   "cell_type": "code",
   "execution_count": 38,
   "id": "c4154699",
   "metadata": {},
   "outputs": [],
   "source": [
    "# train_clean_text = xtrain.apply(spelling_correction)\n",
    "# test_clean_text = xtest.apply(spelling_correction)"
   ]
  },
  {
   "cell_type": "markdown",
   "id": "0b4ca585",
   "metadata": {},
   "source": [
    "## EDA"
   ]
  },
  {
   "cell_type": "code",
   "execution_count": 39,
   "id": "6feb5380",
   "metadata": {},
   "outputs": [
    {
     "data": {
      "text/plain": [
       "<AxesSubplot:xlabel='genre', ylabel='count'>"
      ]
     },
     "execution_count": 39,
     "metadata": {},
     "output_type": "execute_result"
    },
    {
     "data": {
      "image/png": "[encoded data removed]",
      "text/plain": [
       "<Figure size 864x576 with 1 Axes>"
      ]
     },
     "metadata": {
      "needs_background": "light"
     },
     "output_type": "display_data"
    }
   ],
   "source": [
    "plt.figure(figsize = (12,8))            ## shows count of each category in the data.\n",
    "sns.countplot(df[\"genre\"],)"
   ]
  },
  {
   "cell_type": "code",
   "execution_count": 40,
   "id": "3890417b",
   "metadata": {},
   "outputs": [],
   "source": [
    "## thriller and fantasy are in highest no."
   ]
  },
  {
   "cell_type": "code",
   "execution_count": 41,
   "id": "17a3f9ee",
   "metadata": {},
   "outputs": [],
   "source": [
    "## plotting top ngrams"
   ]
  },
  {
   "cell_type": "code",
   "execution_count": 42,
   "id": "525d339e",
   "metadata": {},
   "outputs": [],
   "source": [
    "def get_ngrams(df,column,ngram_range,n=None):\n",
    "  \"\"\"This function will give us ngrams and plot graph for ngrams\"\"\"\n",
    "  cv = CountVectorizer(ngram_range=ngram_range,stop_words='english')  ## creating instance\n",
    "  bow = cv.fit_transform(df[column])   ## fitting that column to the instance ,gives sparse matrix\n",
    "  sum_of_words = bow.sum(axis=0)    ## gives count of every word\n",
    "  \n",
    "  word_freq = [(word,sum_of_words[0,i]) for word,i in cv.vocabulary_.items()] # gives word and count[(word, count)]\n",
    "  \n",
    "  word_freq = sorted(word_freq,key= lambda x : x[1],reverse=True) ## sort that list\n",
    "\n",
    "  df_ngrams = pd.DataFrame(word_freq[:n],columns = ['word','count']) # create top ngrams\n",
    " \n",
    "  fig,ax = plt.subplots(figsize=(12,8))\n",
    "  plt.xticks(rotation='vertical')\n",
    "  fig = sns.barplot(x='word',y='count',data =df_ngrams )\n",
    "  plt.show()"
   ]
  },
  {
   "cell_type": "code",
   "execution_count": 43,
   "id": "0e1c684c",
   "metadata": {},
   "outputs": [
    {
     "data": {
      "image/png": "[encoded data removed]",
      "text/plain": [
       "<Figure size 864x576 with 1 Axes>"
      ]
     },
     "metadata": {
      "needs_background": "light"
     },
     "output_type": "display_data"
    }
   ],
   "source": [
    "get_ngrams(df2,\"translated_synopsis\",(1,1),25)   ## shows top 25 ngrams which are most frequent"
   ]
  },
  {
   "cell_type": "code",
   "execution_count": 44,
   "id": "a1384f82",
   "metadata": {},
   "outputs": [],
   "source": [
    "## creating wordcloud, need to give all at once."
   ]
  },
  {
   "cell_type": "code",
   "execution_count": 45,
   "id": "f5c6510a",
   "metadata": {},
   "outputs": [],
   "source": [
    "def wordcloud(data,column):  ## need to gve all data at once in large string\n",
    "  df = data[column].str.cat(sep=' ') ## create large string with \\n in it\n",
    "  text = \" \".join([word for word in df.split() ])  # removes \\n from it\n",
    "\n",
    "  word_cloud = WordCloud(width=700,height=400,min_font_size=10).generate(text)\n",
    "  plt.figure(figsize=(10,16))\n",
    "  plt.imshow(word_cloud)\n",
    "  plt.show()"
   ]
  },
  {
   "cell_type": "code",
   "execution_count": 46,
   "id": "67961a8a",
   "metadata": {},
   "outputs": [
    {
     "data": {
      "image/png": "[encoded data removed]",
      "text/plain": [
       "<Figure size 720x1152 with 1 Axes>"
      ]
     },
     "metadata": {
      "needs_background": "light"
     },
     "output_type": "display_data"
    }
   ],
   "source": [
    "wordcloud(df2,\"translated_synopsis\") "
   ]
  },
  {
   "cell_type": "markdown",
   "id": "7806dbd1",
   "metadata": {},
   "source": [
    "## modelling"
   ]
  },
  {
   "cell_type": "markdown",
   "id": "ff6a8e1e",
   "metadata": {},
   "source": [
    "## 1) countvectorizer"
   ]
  },
  {
   "cell_type": "code",
   "execution_count": 47,
   "id": "6163bcd0",
   "metadata": {},
   "outputs": [],
   "source": [
    "count = CountVectorizer(max_df = 0.95, max_features = 1000, lowercase = True)  ## create model instance\n",
    "count_train = count.fit_transform(train_clean_text)  ## fit and transforming the training data\n",
    "count_test = count.transform(test_clean_text)   ## only transforming the testing data to avoid data leakage."
   ]
  },
  {
   "cell_type": "code",
   "execution_count": 48,
   "id": "c01cf6bf",
   "metadata": {},
   "outputs": [
    {
     "data": {
      "text/plain": [
       "array([[0, 0, 0, ..., 0, 0, 0],\n",
       "       [0, 0, 0, ..., 0, 0, 0],\n",
       "       [0, 0, 0, ..., 0, 0, 0],\n",
       "       ...,\n",
       "       [0, 0, 0, ..., 0, 0, 0],\n",
       "       [0, 0, 0, ..., 0, 0, 0],\n",
       "       [0, 0, 0, ..., 1, 0, 0]], dtype=int64)"
      ]
     },
     "execution_count": 48,
     "metadata": {},
     "output_type": "execute_result"
    }
   ],
   "source": [
    "count_train.A  ## without .A gives sparse matrix , aftr applying give array"
   ]
  },
  {
   "cell_type": "code",
   "execution_count": 49,
   "id": "76aceb08",
   "metadata": {},
   "outputs": [
    {
     "data": {
      "text/html": [
       "<div>\n",
       "<style scoped>\n",
       "    .dataframe tbody tr th:only-of-type {\n",
       "        vertical-align: middle;\n",
       "    }\n",
       "\n",
       "    .dataframe tbody tr th {\n",
       "        vertical-align: top;\n",
       "    }\n",
       "\n",
       "    .dataframe thead th {\n",
       "        text-align: right;\n",
       "    }\n",
       "</style>\n",
       "<table border=\"1\" class=\"dataframe\">\n",
       "  <thead>\n",
       "    <tr style=\"text-align: right;\">\n",
       "      <th></th>\n",
       "      <th>abandoned</th>\n",
       "      <th>ability</th>\n",
       "      <th>able</th>\n",
       "      <th>about</th>\n",
       "      <th>above</th>\n",
       "      <th>accident</th>\n",
       "      <th>acclaimed</th>\n",
       "      <th>account</th>\n",
       "      <th>across</th>\n",
       "      <th>act</th>\n",
       "      <th>...</th>\n",
       "      <th>writer</th>\n",
       "      <th>writing</th>\n",
       "      <th>written</th>\n",
       "      <th>wrong</th>\n",
       "      <th>year</th>\n",
       "      <th>yet</th>\n",
       "      <th>york</th>\n",
       "      <th>you</th>\n",
       "      <th>young</th>\n",
       "      <th>your</th>\n",
       "    </tr>\n",
       "  </thead>\n",
       "  <tbody>\n",
       "    <tr>\n",
       "      <th>0</th>\n",
       "      <td>0</td>\n",
       "      <td>0</td>\n",
       "      <td>0</td>\n",
       "      <td>0</td>\n",
       "      <td>0</td>\n",
       "      <td>0</td>\n",
       "      <td>0</td>\n",
       "      <td>0</td>\n",
       "      <td>0</td>\n",
       "      <td>0</td>\n",
       "      <td>...</td>\n",
       "      <td>0</td>\n",
       "      <td>0</td>\n",
       "      <td>1</td>\n",
       "      <td>0</td>\n",
       "      <td>0</td>\n",
       "      <td>0</td>\n",
       "      <td>0</td>\n",
       "      <td>0</td>\n",
       "      <td>0</td>\n",
       "      <td>0</td>\n",
       "    </tr>\n",
       "    <tr>\n",
       "      <th>1</th>\n",
       "      <td>0</td>\n",
       "      <td>0</td>\n",
       "      <td>0</td>\n",
       "      <td>0</td>\n",
       "      <td>0</td>\n",
       "      <td>0</td>\n",
       "      <td>0</td>\n",
       "      <td>0</td>\n",
       "      <td>0</td>\n",
       "      <td>0</td>\n",
       "      <td>...</td>\n",
       "      <td>0</td>\n",
       "      <td>0</td>\n",
       "      <td>0</td>\n",
       "      <td>0</td>\n",
       "      <td>1</td>\n",
       "      <td>0</td>\n",
       "      <td>0</td>\n",
       "      <td>0</td>\n",
       "      <td>0</td>\n",
       "      <td>0</td>\n",
       "    </tr>\n",
       "    <tr>\n",
       "      <th>2</th>\n",
       "      <td>0</td>\n",
       "      <td>0</td>\n",
       "      <td>0</td>\n",
       "      <td>0</td>\n",
       "      <td>0</td>\n",
       "      <td>0</td>\n",
       "      <td>0</td>\n",
       "      <td>0</td>\n",
       "      <td>0</td>\n",
       "      <td>0</td>\n",
       "      <td>...</td>\n",
       "      <td>0</td>\n",
       "      <td>0</td>\n",
       "      <td>0</td>\n",
       "      <td>0</td>\n",
       "      <td>0</td>\n",
       "      <td>0</td>\n",
       "      <td>0</td>\n",
       "      <td>0</td>\n",
       "      <td>0</td>\n",
       "      <td>0</td>\n",
       "    </tr>\n",
       "    <tr>\n",
       "      <th>3</th>\n",
       "      <td>0</td>\n",
       "      <td>0</td>\n",
       "      <td>0</td>\n",
       "      <td>2</td>\n",
       "      <td>0</td>\n",
       "      <td>0</td>\n",
       "      <td>0</td>\n",
       "      <td>0</td>\n",
       "      <td>1</td>\n",
       "      <td>0</td>\n",
       "      <td>...</td>\n",
       "      <td>0</td>\n",
       "      <td>0</td>\n",
       "      <td>0</td>\n",
       "      <td>0</td>\n",
       "      <td>1</td>\n",
       "      <td>1</td>\n",
       "      <td>0</td>\n",
       "      <td>0</td>\n",
       "      <td>0</td>\n",
       "      <td>0</td>\n",
       "    </tr>\n",
       "    <tr>\n",
       "      <th>4</th>\n",
       "      <td>0</td>\n",
       "      <td>0</td>\n",
       "      <td>0</td>\n",
       "      <td>0</td>\n",
       "      <td>0</td>\n",
       "      <td>0</td>\n",
       "      <td>0</td>\n",
       "      <td>0</td>\n",
       "      <td>0</td>\n",
       "      <td>0</td>\n",
       "      <td>...</td>\n",
       "      <td>0</td>\n",
       "      <td>0</td>\n",
       "      <td>0</td>\n",
       "      <td>0</td>\n",
       "      <td>1</td>\n",
       "      <td>0</td>\n",
       "      <td>0</td>\n",
       "      <td>0</td>\n",
       "      <td>0</td>\n",
       "      <td>0</td>\n",
       "    </tr>\n",
       "    <tr>\n",
       "      <th>...</th>\n",
       "      <td>...</td>\n",
       "      <td>...</td>\n",
       "      <td>...</td>\n",
       "      <td>...</td>\n",
       "      <td>...</td>\n",
       "      <td>...</td>\n",
       "      <td>...</td>\n",
       "      <td>...</td>\n",
       "      <td>...</td>\n",
       "      <td>...</td>\n",
       "      <td>...</td>\n",
       "      <td>...</td>\n",
       "      <td>...</td>\n",
       "      <td>...</td>\n",
       "      <td>...</td>\n",
       "      <td>...</td>\n",
       "      <td>...</td>\n",
       "      <td>...</td>\n",
       "      <td>...</td>\n",
       "      <td>...</td>\n",
       "      <td>...</td>\n",
       "    </tr>\n",
       "    <tr>\n",
       "      <th>1072</th>\n",
       "      <td>0</td>\n",
       "      <td>0</td>\n",
       "      <td>0</td>\n",
       "      <td>1</td>\n",
       "      <td>0</td>\n",
       "      <td>0</td>\n",
       "      <td>0</td>\n",
       "      <td>0</td>\n",
       "      <td>0</td>\n",
       "      <td>0</td>\n",
       "      <td>...</td>\n",
       "      <td>0</td>\n",
       "      <td>0</td>\n",
       "      <td>0</td>\n",
       "      <td>0</td>\n",
       "      <td>0</td>\n",
       "      <td>0</td>\n",
       "      <td>0</td>\n",
       "      <td>0</td>\n",
       "      <td>0</td>\n",
       "      <td>0</td>\n",
       "    </tr>\n",
       "    <tr>\n",
       "      <th>1073</th>\n",
       "      <td>0</td>\n",
       "      <td>0</td>\n",
       "      <td>0</td>\n",
       "      <td>0</td>\n",
       "      <td>0</td>\n",
       "      <td>0</td>\n",
       "      <td>0</td>\n",
       "      <td>0</td>\n",
       "      <td>0</td>\n",
       "      <td>0</td>\n",
       "      <td>...</td>\n",
       "      <td>0</td>\n",
       "      <td>0</td>\n",
       "      <td>0</td>\n",
       "      <td>0</td>\n",
       "      <td>0</td>\n",
       "      <td>0</td>\n",
       "      <td>0</td>\n",
       "      <td>2</td>\n",
       "      <td>1</td>\n",
       "      <td>1</td>\n",
       "    </tr>\n",
       "    <tr>\n",
       "      <th>1074</th>\n",
       "      <td>0</td>\n",
       "      <td>0</td>\n",
       "      <td>0</td>\n",
       "      <td>0</td>\n",
       "      <td>0</td>\n",
       "      <td>0</td>\n",
       "      <td>0</td>\n",
       "      <td>0</td>\n",
       "      <td>0</td>\n",
       "      <td>0</td>\n",
       "      <td>...</td>\n",
       "      <td>0</td>\n",
       "      <td>0</td>\n",
       "      <td>0</td>\n",
       "      <td>0</td>\n",
       "      <td>0</td>\n",
       "      <td>0</td>\n",
       "      <td>0</td>\n",
       "      <td>0</td>\n",
       "      <td>0</td>\n",
       "      <td>0</td>\n",
       "    </tr>\n",
       "    <tr>\n",
       "      <th>1075</th>\n",
       "      <td>0</td>\n",
       "      <td>0</td>\n",
       "      <td>0</td>\n",
       "      <td>0</td>\n",
       "      <td>0</td>\n",
       "      <td>0</td>\n",
       "      <td>0</td>\n",
       "      <td>0</td>\n",
       "      <td>0</td>\n",
       "      <td>0</td>\n",
       "      <td>...</td>\n",
       "      <td>0</td>\n",
       "      <td>0</td>\n",
       "      <td>0</td>\n",
       "      <td>0</td>\n",
       "      <td>0</td>\n",
       "      <td>0</td>\n",
       "      <td>0</td>\n",
       "      <td>0</td>\n",
       "      <td>0</td>\n",
       "      <td>0</td>\n",
       "    </tr>\n",
       "    <tr>\n",
       "      <th>1076</th>\n",
       "      <td>0</td>\n",
       "      <td>0</td>\n",
       "      <td>0</td>\n",
       "      <td>0</td>\n",
       "      <td>0</td>\n",
       "      <td>0</td>\n",
       "      <td>0</td>\n",
       "      <td>0</td>\n",
       "      <td>1</td>\n",
       "      <td>0</td>\n",
       "      <td>...</td>\n",
       "      <td>0</td>\n",
       "      <td>0</td>\n",
       "      <td>0</td>\n",
       "      <td>0</td>\n",
       "      <td>0</td>\n",
       "      <td>0</td>\n",
       "      <td>0</td>\n",
       "      <td>1</td>\n",
       "      <td>0</td>\n",
       "      <td>0</td>\n",
       "    </tr>\n",
       "  </tbody>\n",
       "</table>\n",
       "<p>1077 rows × 1000 columns</p>\n",
       "</div>"
      ],
      "text/plain": [
       "      abandoned  ability  able  about  above  accident  acclaimed  account  \\\n",
       "0             0        0     0      0      0         0          0        0   \n",
       "1             0        0     0      0      0         0          0        0   \n",
       "2             0        0     0      0      0         0          0        0   \n",
       "3             0        0     0      2      0         0          0        0   \n",
       "4             0        0     0      0      0         0          0        0   \n",
       "...         ...      ...   ...    ...    ...       ...        ...      ...   \n",
       "1072          0        0     0      1      0         0          0        0   \n",
       "1073          0        0     0      0      0         0          0        0   \n",
       "1074          0        0     0      0      0         0          0        0   \n",
       "1075          0        0     0      0      0         0          0        0   \n",
       "1076          0        0     0      0      0         0          0        0   \n",
       "\n",
       "      across  act  ...  writer  writing  written  wrong  year  yet  york  you  \\\n",
       "0          0    0  ...       0        0        1      0     0    0     0    0   \n",
       "1          0    0  ...       0        0        0      0     1    0     0    0   \n",
       "2          0    0  ...       0        0        0      0     0    0     0    0   \n",
       "3          1    0  ...       0        0        0      0     1    1     0    0   \n",
       "4          0    0  ...       0        0        0      0     1    0     0    0   \n",
       "...      ...  ...  ...     ...      ...      ...    ...   ...  ...   ...  ...   \n",
       "1072       0    0  ...       0        0        0      0     0    0     0    0   \n",
       "1073       0    0  ...       0        0        0      0     0    0     0    2   \n",
       "1074       0    0  ...       0        0        0      0     0    0     0    0   \n",
       "1075       0    0  ...       0        0        0      0     0    0     0    0   \n",
       "1076       1    0  ...       0        0        0      0     0    0     0    1   \n",
       "\n",
       "      young  your  \n",
       "0         0     0  \n",
       "1         0     0  \n",
       "2         0     0  \n",
       "3         0     0  \n",
       "4         0     0  \n",
       "...     ...   ...  \n",
       "1072      0     0  \n",
       "1073      1     1  \n",
       "1074      0     0  \n",
       "1075      0     0  \n",
       "1076      0     0  \n",
       "\n",
       "[1077 rows x 1000 columns]"
      ]
     },
     "execution_count": 49,
     "metadata": {},
     "output_type": "execute_result"
    }
   ],
   "source": [
    "pd.DataFrame(count_train.A, columns = count.get_feature_names())  ## creating data set "
   ]
  },
  {
   "cell_type": "code",
   "execution_count": 50,
   "id": "0a0916a8",
   "metadata": {},
   "outputs": [],
   "source": [
    "## pd.DataFrame(count_test.A, columns = count.get_feature_names()) ## we can make similar for test data set also."
   ]
  },
  {
   "cell_type": "markdown",
   "id": "fb1b8ed8",
   "metadata": {},
   "source": [
    "## Evaluation"
   ]
  },
  {
   "cell_type": "code",
   "execution_count": 51,
   "id": "a8483ea8",
   "metadata": {},
   "outputs": [
    {
     "data": {
      "text/html": [
       "<style>#sk-container-id-1 {color: black;background-color: white;}#sk-container-id-1 pre{padding: 0;}#sk-container-id-1 div.sk-toggleable {background-color: white;}#sk-container-id-1 label.sk-toggleable__label {cursor: pointer;display: block;width: 100%;margin-bottom: 0;padding: 0.3em;box-sizing: border-box;text-align: center;}#sk-container-id-1 label.sk-toggleable__label-arrow:before {content: \"▸\";float: left;margin-right: 0.25em;color: #696969;}#sk-container-id-1 label.sk-toggleable__label-arrow:hover:before {color: black;}#sk-container-id-1 div.sk-estimator:hover label.sk-toggleable__label-arrow:before {color: black;}#sk-container-id-1 div.sk-toggleable__content {max-height: 0;max-width: 0;overflow: hidden;text-align: left;background-color: #f0f8ff;}#sk-container-id-1 div.sk-toggleable__content pre {margin: 0.2em;color: black;border-radius: 0.25em;background-color: #f0f8ff;}#sk-container-id-1 input.sk-toggleable__control:checked~div.sk-toggleable__content {max-height: 200px;max-width: 100%;overflow: auto;}#sk-container-id-1 input.sk-toggleable__control:checked~label.sk-toggleable__label-arrow:before {content: \"▾\";}#sk-container-id-1 div.sk-estimator input.sk-toggleable__control:checked~label.sk-toggleable__label {background-color: #d4ebff;}#sk-container-id-1 div.sk-label input.sk-toggleable__control:checked~label.sk-toggleable__label {background-color: #d4ebff;}#sk-container-id-1 input.sk-hidden--visually {border: 0;clip: rect(1px 1px 1px 1px);clip: rect(1px, 1px, 1px, 1px);height: 1px;margin: -1px;overflow: hidden;padding: 0;position: absolute;width: 1px;}#sk-container-id-1 div.sk-estimator {font-family: monospace;background-color: #f0f8ff;border: 1px dotted black;border-radius: 0.25em;box-sizing: border-box;margin-bottom: 0.5em;}#sk-container-id-1 div.sk-estimator:hover {background-color: #d4ebff;}#sk-container-id-1 div.sk-parallel-item::after {content: \"\";width: 100%;border-bottom: 1px solid gray;flex-grow: 1;}#sk-container-id-1 div.sk-label:hover label.sk-toggleable__label {background-color: #d4ebff;}#sk-container-id-1 div.sk-serial::before {content: \"\";position: absolute;border-left: 1px solid gray;box-sizing: border-box;top: 0;bottom: 0;left: 50%;z-index: 0;}#sk-container-id-1 div.sk-serial {display: flex;flex-direction: column;align-items: center;background-color: white;padding-right: 0.2em;padding-left: 0.2em;position: relative;}#sk-container-id-1 div.sk-item {position: relative;z-index: 1;}#sk-container-id-1 div.sk-parallel {display: flex;align-items: stretch;justify-content: center;background-color: white;position: relative;}#sk-container-id-1 div.sk-item::before, #sk-container-id-1 div.sk-parallel-item::before {content: \"\";position: absolute;border-left: 1px solid gray;box-sizing: border-box;top: 0;bottom: 0;left: 50%;z-index: -1;}#sk-container-id-1 div.sk-parallel-item {display: flex;flex-direction: column;z-index: 1;position: relative;background-color: white;}#sk-container-id-1 div.sk-parallel-item:first-child::after {align-self: flex-end;width: 50%;}#sk-container-id-1 div.sk-parallel-item:last-child::after {align-self: flex-start;width: 50%;}#sk-container-id-1 div.sk-parallel-item:only-child::after {width: 0;}#sk-container-id-1 div.sk-dashed-wrapped {border: 1px dashed gray;margin: 0 0.4em 0.5em 0.4em;box-sizing: border-box;padding-bottom: 0.4em;background-color: white;}#sk-container-id-1 div.sk-label label {font-family: monospace;font-weight: bold;display: inline-block;line-height: 1.2em;}#sk-container-id-1 div.sk-label-container {text-align: center;}#sk-container-id-1 div.sk-container {/* jupyter's `normalize.less` sets `[hidden] { display: none; }` but bootstrap.min.css set `[hidden] { display: none !important; }` so we also need the `!important` here to be able to override the default hidden behavior on the sphinx rendered scikit-learn.org. See: https://github.com/scikit-learn/scikit-learn/issues/21755 */display: inline-block !important;position: relative;}#sk-container-id-1 div.sk-text-repr-fallback {display: none;}</style><div id=\"sk-container-id-1\" class=\"sk-top-container\"><div class=\"sk-text-repr-fallback\"><pre>MultinomialNB()</pre><b>In a Jupyter environment, please rerun this cell to show the HTML representation or trust the notebook. <br />On GitHub, the HTML representation is unable to render, please try loading this page with nbviewer.org.</b></div><div class=\"sk-container\" hidden><div class=\"sk-item\"><div class=\"sk-estimator sk-toggleable\"><input class=\"sk-toggleable__control sk-hidden--visually\" id=\"sk-estimator-id-1\" type=\"checkbox\" checked><label for=\"sk-estimator-id-1\" class=\"sk-toggleable__label sk-toggleable__label-arrow\">MultinomialNB</label><div class=\"sk-toggleable__content\"><pre>MultinomialNB()</pre></div></div></div></div></div>"
      ],
      "text/plain": [
       "MultinomialNB()"
      ]
     },
     "execution_count": 51,
     "metadata": {},
     "output_type": "execute_result"
    }
   ],
   "source": [
    "mul_count = MultinomialNB()  ## evaluating using multinomial naive bayes algorithm.\n",
    "mul_count.fit(count_train.A, ytrain) ## fitting training data into model."
   ]
  },
  {
   "cell_type": "code",
   "execution_count": 52,
   "id": "94404ff1",
   "metadata": {},
   "outputs": [],
   "source": [
    "ypred_mul_count = mul_count.predict(count_test.A) ## predicting the data."
   ]
  },
  {
   "cell_type": "code",
   "execution_count": 64,
   "id": "33614df6",
   "metadata": {},
   "outputs": [
    {
     "name": "stdout",
     "output_type": "stream",
     "text": [
      "accuracy score is :  0.7316017316017316\n",
      "confusion_matrix is : \n",
      " [[ 82   0   4   1   5   0   0   3   9   1]\n",
      " [  1  24   1   2   0   2   0   0   0   1]\n",
      " [  3   0  14   0   1   0   1   1  11   0]\n",
      " [  0   2   0  17   1   1   0   0   1   0]\n",
      " [  4   0   0   0  17   0   1   4   9   0]\n",
      " [  0   3   0   1   0  18   0   0   0   0]\n",
      " [  1   1   3   0   0   0   7   0   0   0]\n",
      " [  0   0   0   1   2   1   0  14   0   1]\n",
      " [  7   1  11   0  10   1   2   2 120   0]\n",
      " [  1   1   1   0   2   1   0   0   0  25]]\n",
      "\n",
      "confusion_report_count score is : \n",
      "               precision    recall  f1-score   support\n",
      "\n",
      "           0       0.83      0.78      0.80       105\n",
      "           1       0.75      0.77      0.76        31\n",
      "           2       0.41      0.45      0.43        31\n",
      "           3       0.77      0.77      0.77        22\n",
      "           4       0.45      0.49      0.47        35\n",
      "           5       0.75      0.82      0.78        22\n",
      "           6       0.64      0.58      0.61        12\n",
      "           7       0.58      0.74      0.65        19\n",
      "           8       0.80      0.78      0.79       154\n",
      "           9       0.89      0.81      0.85        31\n",
      "\n",
      "    accuracy                           0.73       462\n",
      "   macro avg       0.69      0.70      0.69       462\n",
      "weighted avg       0.74      0.73      0.73       462\n",
      "\n"
     ]
    }
   ],
   "source": [
    "accuracy_count = accuracy_score(ytest, ypred_mul_count)  ## finding accuracy of the model.\n",
    "print(\"accuracy score is : \", accuracy_count)\n",
    "\n",
    "confusion_count = confusion_matrix(ytest, ypred_mul_count)  ## craeting confusion matrix\n",
    "print(\"confusion_matrix is : \\n\", confusion_count)\n",
    "print()\n",
    "\n",
    "confusion_report_count = classification_report(ytest, ypred_mul_count) ## finding other metric like precision recall and f1score\n",
    "print(\"confusion_report_count score is : \\n\", confusion_report_count)"
   ]
  },
  {
   "cell_type": "code",
   "execution_count": 65,
   "id": "0750438d",
   "metadata": {},
   "outputs": [
    {
     "data": {
      "text/plain": [
       "<AxesSubplot:>"
      ]
     },
     "execution_count": 65,
     "metadata": {},
     "output_type": "execute_result"
    },
    {
     "data": {
      "image/png": "[encoded data removed]",
      "text/plain": [
       "<Figure size 432x288 with 2 Axes>"
      ]
     },
     "metadata": {
      "needs_background": "light"
     },
     "output_type": "display_data"
    }
   ],
   "source": [
    "sns.heatmap(pd.DataFrame(confusion_count), annot=True, cmap=\"YlGnBu\" ,fmt='g')"
   ]
  },
  {
   "cell_type": "markdown",
   "id": "f5550c5d",
   "metadata": {},
   "source": [
    "## 2) tfidf"
   ]
  },
  {
   "cell_type": "code",
   "execution_count": 66,
   "id": "41f78724",
   "metadata": {},
   "outputs": [],
   "source": [
    "tfidf = TfidfVectorizer(max_df = 0.95, max_features = 1000, lowercase = True) ## creating model instance\n",
    "tfidf_train = tfidf.fit_transform(train_clean_text) ## fit and transforming training data\n",
    "tfidf_test = tfidf.transform(test_clean_text)  ## transforming testing data"
   ]
  },
  {
   "cell_type": "markdown",
   "id": "7bcabf00",
   "metadata": {},
   "source": [
    "## evaluation"
   ]
  },
  {
   "cell_type": "code",
   "execution_count": 67,
   "id": "f10e6519",
   "metadata": {},
   "outputs": [
    {
     "data": {
      "text/html": [
       "<style>#sk-container-id-3 {color: black;background-color: white;}#sk-container-id-3 pre{padding: 0;}#sk-container-id-3 div.sk-toggleable {background-color: white;}#sk-container-id-3 label.sk-toggleable__label {cursor: pointer;display: block;width: 100%;margin-bottom: 0;padding: 0.3em;box-sizing: border-box;text-align: center;}#sk-container-id-3 label.sk-toggleable__label-arrow:before {content: \"▸\";float: left;margin-right: 0.25em;color: #696969;}#sk-container-id-3 label.sk-toggleable__label-arrow:hover:before {color: black;}#sk-container-id-3 div.sk-estimator:hover label.sk-toggleable__label-arrow:before {color: black;}#sk-container-id-3 div.sk-toggleable__content {max-height: 0;max-width: 0;overflow: hidden;text-align: left;background-color: #f0f8ff;}#sk-container-id-3 div.sk-toggleable__content pre {margin: 0.2em;color: black;border-radius: 0.25em;background-color: #f0f8ff;}#sk-container-id-3 input.sk-toggleable__control:checked~div.sk-toggleable__content {max-height: 200px;max-width: 100%;overflow: auto;}#sk-container-id-3 input.sk-toggleable__control:checked~label.sk-toggleable__label-arrow:before {content: \"▾\";}#sk-container-id-3 div.sk-estimator input.sk-toggleable__control:checked~label.sk-toggleable__label {background-color: #d4ebff;}#sk-container-id-3 div.sk-label input.sk-toggleable__control:checked~label.sk-toggleable__label {background-color: #d4ebff;}#sk-container-id-3 input.sk-hidden--visually {border: 0;clip: rect(1px 1px 1px 1px);clip: rect(1px, 1px, 1px, 1px);height: 1px;margin: -1px;overflow: hidden;padding: 0;position: absolute;width: 1px;}#sk-container-id-3 div.sk-estimator {font-family: monospace;background-color: #f0f8ff;border: 1px dotted black;border-radius: 0.25em;box-sizing: border-box;margin-bottom: 0.5em;}#sk-container-id-3 div.sk-estimator:hover {background-color: #d4ebff;}#sk-container-id-3 div.sk-parallel-item::after {content: \"\";width: 100%;border-bottom: 1px solid gray;flex-grow: 1;}#sk-container-id-3 div.sk-label:hover label.sk-toggleable__label {background-color: #d4ebff;}#sk-container-id-3 div.sk-serial::before {content: \"\";position: absolute;border-left: 1px solid gray;box-sizing: border-box;top: 0;bottom: 0;left: 50%;z-index: 0;}#sk-container-id-3 div.sk-serial {display: flex;flex-direction: column;align-items: center;background-color: white;padding-right: 0.2em;padding-left: 0.2em;position: relative;}#sk-container-id-3 div.sk-item {position: relative;z-index: 1;}#sk-container-id-3 div.sk-parallel {display: flex;align-items: stretch;justify-content: center;background-color: white;position: relative;}#sk-container-id-3 div.sk-item::before, #sk-container-id-3 div.sk-parallel-item::before {content: \"\";position: absolute;border-left: 1px solid gray;box-sizing: border-box;top: 0;bottom: 0;left: 50%;z-index: -1;}#sk-container-id-3 div.sk-parallel-item {display: flex;flex-direction: column;z-index: 1;position: relative;background-color: white;}#sk-container-id-3 div.sk-parallel-item:first-child::after {align-self: flex-end;width: 50%;}#sk-container-id-3 div.sk-parallel-item:last-child::after {align-self: flex-start;width: 50%;}#sk-container-id-3 div.sk-parallel-item:only-child::after {width: 0;}#sk-container-id-3 div.sk-dashed-wrapped {border: 1px dashed gray;margin: 0 0.4em 0.5em 0.4em;box-sizing: border-box;padding-bottom: 0.4em;background-color: white;}#sk-container-id-3 div.sk-label label {font-family: monospace;font-weight: bold;display: inline-block;line-height: 1.2em;}#sk-container-id-3 div.sk-label-container {text-align: center;}#sk-container-id-3 div.sk-container {/* jupyter's `normalize.less` sets `[hidden] { display: none; }` but bootstrap.min.css set `[hidden] { display: none !important; }` so we also need the `!important` here to be able to override the default hidden behavior on the sphinx rendered scikit-learn.org. See: https://github.com/scikit-learn/scikit-learn/issues/21755 */display: inline-block !important;position: relative;}#sk-container-id-3 div.sk-text-repr-fallback {display: none;}</style><div id=\"sk-container-id-3\" class=\"sk-top-container\"><div class=\"sk-text-repr-fallback\"><pre>MultinomialNB()</pre><b>In a Jupyter environment, please rerun this cell to show the HTML representation or trust the notebook. <br />On GitHub, the HTML representation is unable to render, please try loading this page with nbviewer.org.</b></div><div class=\"sk-container\" hidden><div class=\"sk-item\"><div class=\"sk-estimator sk-toggleable\"><input class=\"sk-toggleable__control sk-hidden--visually\" id=\"sk-estimator-id-3\" type=\"checkbox\" checked><label for=\"sk-estimator-id-3\" class=\"sk-toggleable__label sk-toggleable__label-arrow\">MultinomialNB</label><div class=\"sk-toggleable__content\"><pre>MultinomialNB()</pre></div></div></div></div></div>"
      ],
      "text/plain": [
       "MultinomialNB()"
      ]
     },
     "execution_count": 67,
     "metadata": {},
     "output_type": "execute_result"
    }
   ],
   "source": [
    "mul_tfidf = MultinomialNB()  ## creating model instance\n",
    "mul_tfidf.fit(tfidf_train.A, ytrain) ## fitting training data"
   ]
  },
  {
   "cell_type": "code",
   "execution_count": 68,
   "id": "ba4737d0",
   "metadata": {},
   "outputs": [],
   "source": [
    "ypred_mul_tfidf = mul_tfidf.predict(tfidf_test.A)  ## predicting the data"
   ]
  },
  {
   "cell_type": "code",
   "execution_count": 69,
   "id": "6d0be884",
   "metadata": {},
   "outputs": [
    {
     "name": "stdout",
     "output_type": "stream",
     "text": [
      "accuracy score is :  0.5562770562770563\n",
      "confusion_matrix is : \n",
      " [[ 82   0   0   0   0   0   0   0  23   0]\n",
      " [ 10   8   0   1   0   0   0   0  12   0]\n",
      " [  5   0   0   0   0   0   0   0  26   0]\n",
      " [  1   0   0   7   0   0   0   0  14   0]\n",
      " [  3   0   0   0   0   0   0   0  32   0]\n",
      " [  5   1   0   6   0   7   0   0   3   0]\n",
      " [  8   0   0   0   0   0   0   0   4   0]\n",
      " [  1   0   0   1   0   0   0   0  17   0]\n",
      " [  4   0   0   0   0   0   0   0 150   0]\n",
      " [ 10   0   0   0   0   0   0   0  18   3]]\n",
      "confusion_report_count score is : \n",
      "               precision    recall  f1-score   support\n",
      "\n",
      "           0       0.64      0.78      0.70       105\n",
      "           1       0.89      0.26      0.40        31\n",
      "           2       0.00      0.00      0.00        31\n",
      "           3       0.47      0.32      0.38        22\n",
      "           4       0.00      0.00      0.00        35\n",
      "           5       1.00      0.32      0.48        22\n",
      "           6       0.00      0.00      0.00        12\n",
      "           7       0.00      0.00      0.00        19\n",
      "           8       0.50      0.97      0.66       154\n",
      "           9       1.00      0.10      0.18        31\n",
      "\n",
      "    accuracy                           0.56       462\n",
      "   macro avg       0.45      0.27      0.28       462\n",
      "weighted avg       0.51      0.56      0.46       462\n",
      "\n"
     ]
    }
   ],
   "source": [
    "accuracy_tfidf = accuracy_score(ytest, ypred_mul_tfidf) ## finding accuracy of the model\n",
    "print(\"accuracy score is : \", accuracy_tfidf)\n",
    "\n",
    "confusion_tfidf = confusion_matrix(ytest, ypred_mul_tfidf)  ## creating confusion matrix\n",
    "print(\"confusion_matrix is : \\n\", confusion_tfidf)\n",
    "\n",
    "confusion_report_tfidf = classification_report(ytest, ypred_mul_tfidf) ## finding other metric like precision recall and f1score\n",
    "print(\"confusion_report_count score is : \\n\", confusion_report_tfidf)"
   ]
  },
  {
   "cell_type": "code",
   "execution_count": 70,
   "id": "f8abbb4d",
   "metadata": {
    "scrolled": false
   },
   "outputs": [
    {
     "data": {
      "text/plain": [
       "<AxesSubplot:>"
      ]
     },
     "execution_count": 70,
     "metadata": {},
     "output_type": "execute_result"
    },
    {
     "data": {
      "image/png": "[encoded data removed]",
      "text/plain": [
       "<Figure size 432x288 with 2 Axes>"
      ]
     },
     "metadata": {
      "needs_background": "light"
     },
     "output_type": "display_data"
    }
   ],
   "source": [
    "sns.heatmap(pd.DataFrame(confusion_tfidf), annot=True, cmap=\"YlGnBu\" ,fmt='g')"
   ]
  },
  {
   "cell_type": "code",
   "execution_count": 59,
   "id": "549dbe5b",
   "metadata": {},
   "outputs": [],
   "source": [
    "## here we can see that count vectorizor works good as compare to tfidf.\n",
    "## giving accuracy of 0.73..."
   ]
  },
  {
   "cell_type": "code",
   "execution_count": null,
   "id": "4a39f645",
   "metadata": {},
   "outputs": [],
   "source": []
  }
 ],
 "metadata": {
  "kernelspec": {
   "display_name": "Python 3 (ipykernel)",
   "language": "python",
   "name": "python3"
  },
  "language_info": {
   "codemirror_mode": {
    "name": "ipython",
    "version": 3
   },
   "file_extension": ".py",
   "mimetype": "text/x-python",
   "name": "python",
   "nbconvert_exporter": "python",
   "pygments_lexer": "ipython3",
   "version": "3.9.7"
  }
 },
 "nbformat": 4,
 "nbformat_minor": 5
}
